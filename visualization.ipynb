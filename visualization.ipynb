{
 "cells": [
  {
   "cell_type": "markdown",
   "id": "8cd554f7",
   "metadata": {},
   "source": [
    "## Yeşil Alan Optimizasyonu Projesi: Veri Görselleştirme ve Analiz\n",
    "\n",
    "Bu notebook, İstanbul ilçeleri için yeşil alan optimizasyonu projesinin sonuçlarını içeren `optimum_yesil_alan_sonuclari.csv` dosyasındaki verileri kullanarak çeşitli görselleştirmeler ve karşılaştırmalar yapmayı amaçlamaktadır.\n",
    "\n",
    "Kullanılan temel metrikler şunlardır:\n",
    "- Mevcut yeşil alan (`alan_metrekare`)\n",
    "- Nüfus (`Nufus`)\n",
    "- Ulaşım olanakları (Minibüs durakları, Raylı sistem istasyonları, Taksi durakları)\n",
    "- Ortalama Hava Kalitesi İndeksi (`Ortalama_AQI`)\n",
    "- Proje kapsamında hesaplanan Ulaşım Skoru ($T_i$) ve Hava Kalitesi Skoru ($S_i$)\n",
    "- Genetik Algoritma (GA) ile eklenen ve toplam yeşil alan (`GA_Yeni_Yesil_Alan`, `GA_Toplam_Yesil_Alan`)\n",
    "- Parçacık Sürü Optimizasyonu (PSO) ile eklenen ve toplam yeşil alan (`PSO_Yeni_Yesil_Alan`, `PSO_Toplam_Yesil_Alan`)\n",
    "\n",
    "**Proje Kısıtlarından Bazıları (Referans Amaçlı):**\n",
    "1. Her bir ilçe için maksimum yeşil alan büyüklüğü: $x_i \\le A_{max,i}$\n",
    "2. Her bir ilçenin nüfusuna göre belirlenen kişi başı minimum yeşil alan: $\\frac{GA_i+x_i}{P_i} \\ge \\delta$\n",
    "3. Pozitif yeşil alan: $x_i \\ge 0$\n",
    "\n",
    "Burada $x_i$ ilçeye eklenen yeni yeşil alanı, $GA_i$ mevcut yeşil alanı, $P_i$ nüfusu ve $\\delta$ kişi başı hedeflenen minimum yeşil alan miktarını temsil eder. $A_{max,i}$ verimizde bulunmamaktadır."
   ]
  },
  {
   "cell_type": "markdown",
   "id": "2e9b0070",
   "metadata": {},
   "source": [
    "### 1. Kütüphanelerin Yüklenmesi ve Veri Setinin Okunması"
   ]
  },
  {
   "cell_type": "code",
   "execution_count": null,
   "id": "3a34a373",
   "metadata": {},
   "outputs": [],
   "source": [
    "import pandas as pd\n",
    "import matplotlib.pyplot as plt\n",
    "import seaborn as sns\n",
    "import numpy as np\n",
    "\n",
    "# Matplotlib ayarları ve Türkçe karakterler için\n",
    "plt.rcParams['font.family'] = 'DejaVu Sans' # veya sisteminizde yüklü Türkçe karakter destekleyen bir font\n",
    "plt.rcParams['axes.unicode_minus'] = False # Eksi işaretlerinin doğru gösterimi için\n",
    "\n",
    "# Genel grafik ayarları\n",
    "sns.set_style(\"whitegrid\")\n",
    "\n",
    "# Veri setini yükle\n",
    "file_path = 'optimum_yesil_alan_sonuclari.csv'\n",
    "try:\n",
    "    df = pd.read_csv(file_path)\n",
    "    print(\"CSV dosyası başarıyla yüklendi.\")\n",
    "except FileNotFoundError:\n",
    "    print(f\"Hata: '{file_path}' dosyası bulunamadı. Lütfen dosya yolunu kontrol edin.\")\n",
    "except Exception as e:\n",
    "    print(f\"Dosya okunurken bir hata oluştu: {e}\")"
   ]
  },
  {
   "cell_type": "markdown",
   "id": "c0624cf3",
   "metadata": {},
   "source": [
    "### 2. Veri Setine Genel Bakış"
   ]
  },
  {
   "cell_type": "code",
   "execution_count": null,
   "id": "f07c2768",
   "metadata": {},
   "outputs": [],
   "source": [
    "if 'df' in locals():\n",
    "    print(\"Veri setinin ilk 5 satırı:\")\n",
    "    display(df.head())\n",
    "    print(\"\\nVeri seti hakkında bilgiler:\")\n",
    "    df.info()\n",
    "    print(\"\\nVeri setindeki sayısal sütunlar için temel istatistikler:\")\n",
    "    display(df.describe())\n",
    "    print(\"\\nEksik değerlerin kontrolü:\")\n",
    "    print(df.isnull().sum())"
   ]
  },
  {
   "cell_type": "markdown",
   "id": "ae32a10e",
   "metadata": {},
   "source": [
    "### 3. Görselleştirmeler\n",
    "\n",
    "Bu bölümde, veri setindeki farklı değişkenleri ve optimizasyon sonuçlarını görselleştireceğiz."
   ]
  },
  {
   "cell_type": "markdown",
   "id": "84f5b14c",
   "metadata": {},
   "source": [
    "#### 3.1. Mevcut Yeşil Alanların İlçelere Göre Dağılımı\n",
    "\n",
    "Her bir ilçedeki mevcut yeşil alan miktarını ($m^2$ cinsinden) gösterir. Bu, optimizasyon öncesi durumu anlamak için temel bir görselleştirmedir."
   ]
  },
  {
   "cell_type": "code",
   "execution_count": null,
   "id": "49eee201",
   "metadata": {},
   "outputs": [],
   "source": [
    "if 'df' in locals():\n",
    "    df_sorted_mevcut = df.sort_values('alan_metrekare', ascending=False)\n",
    "    plt.figure(figsize=(16, 9))\n",
    "    sns.barplot(x='alan_metrekare', y='ILCE', data=df_sorted_mevcut, palette='viridis')\n",
    "    plt.title('Mevcut Yeşil Alanların İlçelere Göre Dağılımı ($m^2$)', fontsize=16)\n",
    "    plt.xlabel('Mevcut Yeşil Alan ($m^2$)', fontsize=12)\n",
    "    plt.ylabel('İlçe', fontsize=12)\n",
    "    plt.tight_layout()\n",
    "    plt.show()"
   ]
  },
  {
   "cell_type": "markdown",
   "id": "df9ff34e",
   "metadata": {},
   "source": [
    "#### 3.2. Optimizasyon Yöntemlerine Göre Eklenen Yeşil Alan Miktarları\n",
    "\n",
    "Genetik Algoritma (GA) ve Parçacık Sürü Optimizasyonu (PSO) yöntemleriyle her bir ilçeye ne kadar yeni yeşil alan ($m^2$) eklendiğini karşılaştırmalı olarak gösterir."
   ]
  },
  {
   "cell_type": "code",
   "execution_count": null,
   "id": "a8de94c1",
   "metadata": {},
   "outputs": [],
   "source": [
    "if 'df' in locals():\n",
    "    df_melted_yeni = df.melt(id_vars='ILCE', value_vars=['GA_Yeni_Yesil_Alan', 'PSO_Yeni_Yesil_Alan'],\n",
    "                               var_name='Optimizasyon Yöntemi', value_name='Eklenen Yeşil Alan ($m^2$)')\n",
    "    df_melted_yeni['Optimizasyon Yöntemi'] = df_melted_yeni['Optimizasyon Yöntemi'].map({\n",
    "        'GA_Yeni_Yesil_Alan': 'Genetik Algoritma (GA)',\n",
    "        'PSO_Yeni_Yesil_Alan': 'Parçacık Sürü Optimizasyonu (PSO)'\n",
    "    })\n",
    "\n",
    "    # İlçeleri ortalama eklenen alana göre sıralayarak daha okunaklı bir grafik elde edelim\n",
    "    ilce_order_yeni = df.groupby('ILCE')[['GA_Yeni_Yesil_Alan', 'PSO_Yeni_Yesil_Alan']].mean().mean(axis=1).sort_values(ascending=False).index\n",
    "\n",
    "    plt.figure(figsize=(18, 12))\n",
    "    sns.barplot(x='Eklenen Yeşil Alan ($m^2$)', y='ILCE', hue='Optimizasyon Yöntemi', \n",
    "                data=df_melted_yeni, palette={'Genetik Algoritma (GA)': 'coral', 'Parçacık Sürü Optimizasyonu (PSO)': 'skyblue'},\n",
    "                order=ilce_order_yeni)\n",
    "    plt.title('Optimizasyon Yöntemlerine Göre İlçelere Eklenen Yeşil Alan Miktarları ($m^2$)', fontsize=16)\n",
    "    plt.xlabel('Eklenen Yeşil Alan ($m^2$)', fontsize=12)\n",
    "    plt.ylabel('İlçe', fontsize=12)\n",
    "    plt.legend(title='Optimizasyon Yöntemi')\n",
    "    plt.tight_layout()\n",
    "    plt.show()"
   ]
  },
  {
   "cell_type": "markdown",
   "id": "ba20f229",
   "metadata": {},
   "source": [
    "#### 3.3. Mevcut ve Optimizasyon Sonrası Toplam Yeşil Alanların Karşılaştırılması\n",
    "\n",
    "Her ilçe için mevcut yeşil alan miktarını, GA optimizasyonu sonrası toplam yeşil alan miktarını ve PSO optimizasyonu sonrası toplam yeşil alan miktarını ($m^2$) yan yana gösterir."
   ]
  },
  {
   "cell_type": "code",
   "execution_count": null,
   "id": "95217dab",
   "metadata": {},
   "outputs": [],
   "source": [
    "if 'df' in locals():\n",
    "    df_toplam_melted = df.melt(id_vars='ILCE',\n",
    "                               value_vars=['alan_metrekare', 'GA_Toplam_Yesil_Alan', 'PSO_Toplam_Yesil_Alan'],\n",
    "                               var_name='Yeşil Alan Türü',\n",
    "                               value_name='Alan ($m^2$)')\n",
    "    df_toplam_melted['Yeşil Alan Türü'] = df_toplam_melted['Yeşil Alan Türü'].map({\n",
    "        'alan_metrekare': 'Mevcut Yeşil Alan',\n",
    "        'GA_Toplam_Yesil_Alan': 'Toplam Yeşil Alan (GA)',\n",
    "        'PSO_Toplam_Yesil_Alan': 'Toplam Yeşil Alan (PSO)'\n",
    "    })\n",
    "\n",
    "    # İlçeleri mevcut yeşil alana göre sırala\n",
    "    ilce_order_toplam = df.sort_values('alan_metrekare', ascending=False)['ILCE']\n",
    "\n",
    "    plt.figure(figsize=(20, 15))\n",
    "    sns.barplot(x='Alan ($m^2$)', y='ILCE', hue='Yeşil Alan Türü', data=df_toplam_melted,\n",
    "                palette={'Mevcut Yeşil Alan': 'lightgreen', 'Toplam Yeşil Alan (GA)': 'salmon', 'Toplam Yeşil Alan (PSO)': 'lightblue'},\n",
    "                order=ilce_order_toplam)\n",
    "    plt.title('Mevcut ve Optimizasyon Sonrası Toplam Yeşil Alanların Karşılaştırılması ($m^2$)', fontsize=16)\n",
    "    plt.xlabel('Yeşil Alan ($m^2$)', fontsize=12)\n",
    "    plt.ylabel('İlçe', fontsize=12)\n",
    "    plt.legend(title='Yeşil Alan Durumu')\n",
    "    plt.tight_layout()\n",
    "    plt.show()"
   ]
  },
  {
   "cell_type": "markdown",
   "id": "0183034a",
   "metadata": {},
   "source": [
    "#### 3.4. Kişi Başına Düşen Toplam Yeşil Alan (GA vs PSO)\n",
    "\n",
    "GA ve PSO optimizasyonları sonucunda her bir ilçede kişi başına düşen toplam yeşil alan miktarını ($m^2$/kişi) karşılaştırır. Grafikte örnek olarak 10 $m^2$/kişi ve 15 $m^2$/kişi gibi hedefler de gösterilmiştir. Bu, $\\frac{GA_i+x_i}{P_i} \\ge \\delta$ kısıtının sonuçlarını değerlendirmek için önemlidir."
   ]
  },
  {
   "cell_type": "code",
   "execution_count": null,
   "id": "157564bb",
   "metadata": {},
   "outputs": [],
   "source": [
    "if 'df' in locals():\n",
    "    df['Kişi Başı GA ($m^2$)'] = df['GA_Toplam_Yesil_Alan'] / df['Nufus']\n",
    "    df['Kişi Başı PSO ($m^2$)'] = df['PSO_Toplam_Yesil_Alan'] / df['Nufus']\n",
    "\n",
    "    df_kisi_basi_melted = df.melt(id_vars='ILCE', value_vars=['Kişi Başı GA ($m^2$)', 'Kişi Başı PSO ($m^2$)'],\n",
    "                                   var_name='Hesaplama Yöntemi', value_name='Kişi Başı Yeşil Alan ($m^2$/kişi)')\n",
    "    df_kisi_basi_melted['Hesaplama Yöntemi'] = df_kisi_basi_melted['Hesaplama Yöntemi'].map({\n",
    "        'Kişi Başı GA ($m^2$)': 'GA ile Optimize Edilmiş',\n",
    "        'Kişi Başı PSO ($m^2$)': 'PSO ile Optimize Edilmiş'\n",
    "    })\n",
    "\n",
    "    # İlçeleri ortalama kişi başı yeşil alana göre sırala\n",
    "    ilce_order_kisi_basi = df.groupby('ILCE')[['Kişi Başı GA ($m^2$)', 'Kişi Başı PSO ($m^2$)']].mean().mean(axis=1).sort_values(ascending=False).index\n",
    "\n",
    "    plt.figure(figsize=(18, 12))\n",
    "    sns.barplot(x='Kişi Başı Yeşil Alan ($m^2$/kişi)', y='ILCE', hue='Hesaplama Yöntemi', data=df_kisi_basi_melted,\n",
    "                palette={'GA ile Optimize Edilmiş': 'mediumseagreen', 'PSO ile Optimize Edilmiş': 'cornflowerblue'},\n",
    "                order=ilce_order_kisi_basi)\n",
    "    plt.title('Optimizasyon Sonrası Kişi Başına Düşen Toplam Yeşil Alan ($m^2$/kişi)', fontsize=16)\n",
    "    plt.xlabel('Kişi Başına Düşen Yeşil Alan ($m^2$/kişi)', fontsize=12)\n",
    "    plt.ylabel('İlçe', fontsize=12)\n",
    "    plt.axvline(x=10, color='red', linestyle='--', label='Hedef $\\delta_1$: 10 $m^2$/kişi') # Örnek bir hedef çizgi\n",
    "    plt.axvline(x=15, color='darkred', linestyle='--', label='Hedef $\\delta_2$: 15 $m^2$/kişi') # Örnek bir hedef çizgi\n",
    "    plt.legend(title='Optimizasyon Yöntemi ve Hedefler')\n",
    "    plt.tight_layout()\n",
    "    plt.show()"
   ]
  },
  {
   "cell_type": "markdown",
   "id": "8523f353",
   "metadata": {},
   "source": [
    "#### 3.5. Eklenen Yeşil Alan ve Ortalama Hava Kalitesi İndeksi (AQI) İlişkisi\n",
    "\n",
    "Her bir ilçe için optimizasyonla eklenen yeşil alan miktarı ($m^2$) ile o ilçenin ortalama Hava Kalitesi İndeksi (AQI) arasındaki ilişkiyi gösterir. AQI'da düşük değerler daha iyi hava kalitesini ifade eder."
   ]
  },
  {
   "cell_type": "code",
   "execution_count": null,
   "id": "905729fd",
   "metadata": {},
   "outputs": [],
   "source": [
    "if 'df' in locals():\n",
    "    plt.figure(figsize=(15, 7))\n",
    "\n",
    "    plt.subplot(1, 2, 1)\n",
    "    sns.scatterplot(x='Ortalama_AQI', y='GA_Yeni_Yesil_Alan', data=df, color='coral', s=100, alpha=0.7, legend=False)\n",
    "    # Noktaların üzerine ilçe isimlerini yazmak için (isteğe bağlı, kalabalık olabilir):\n",
    "    # for i in range(df.shape[0]):\n",
    "    #     plt.text(df.Ortalama_AQI[i], df.GA_Yeni_Yesil_Alan[i], df.ILCE[i], fontsize=7)\n",
    "    plt.title('GA: Eklenen Yeşil Alan vs. Ortalama AQI', fontsize=14)\n",
    "    plt.xlabel('Ortalama Hava Kalitesi İndeksi (AQI)\\n(Düşük değer daha iyi hava kalitesi)', fontsize=10)\n",
    "    plt.ylabel('GA ile Eklenen Yeşil Alan ($m^2$)', fontsize=10)\n",
    "    plt.grid(True)\n",
    "\n",
    "    plt.subplot(1, 2, 2)\n",
    "    sns.scatterplot(x='Ortalama_AQI', y='PSO_Yeni_Yesil_Alan', data=df, color='skyblue', s=100, alpha=0.7, legend=False)\n",
    "    # for i in range(df.shape[0]):\n",
    "    #     plt.text(df.Ortalama_AQI[i], df.PSO_Yeni_Yesil_Alan[i], df.ILCE[i], fontsize=7)\n",
    "    plt.title('PSO: Eklenen Yeşil Alan vs. Ortalama AQI', fontsize=14)\n",
    "    plt.xlabel('Ortalama Hava Kalitesi İndeksi (AQI)\\n(Düşük değer daha iyi hava kalitesi)', fontsize=10)\n",
    "    plt.ylabel('PSO ile Eklenen Yeşil Alan ($m^2$)', fontsize=10)\n",
    "    plt.grid(True)\n",
    "\n",
    "    plt.tight_layout()\n",
    "    plt.show()"
   ]
  },
  {
   "cell_type": "markdown",
   "id": "ea82e683",
   "metadata": {},
   "source": [
    "#### 3.6. Eklenen Yeşil Alan ve Ulaşım Skoru ($T_i$) İlişkisi\n",
    "\n",
    "Her bir ilçe için optimizasyonla eklenen yeşil alan miktarı ($m^2$) ile o ilçenin ulaşım skoru ($T_i$) arasındaki ilişkiyi gösterir. Ulaşım skorunda yüksek değerler daha iyi ulaşım imkanlarını ifade eder."
   ]
  },
  {
   "cell_type": "code",
   "execution_count": null,
   "id": "c6f8694b",
   "metadata": {},
   "outputs": [],
   "source": [
    "if 'df' in locals():\n",
    "    plt.figure(figsize=(15, 7))\n",
    "\n",
    "    plt.subplot(1, 2, 1)\n",
    "    sns.scatterplot(x='Ti', y='GA_Yeni_Yesil_Alan', data=df, color='coral', s=100, alpha=0.7, legend=False)\n",
    "    plt.title('GA: Eklenen Yeşil Alan vs. Ulaşım Skoru ($T_i$)', fontsize=14)\n",
    "    plt.xlabel('Ulaşım Skoru ($T_i$)\\n(Yüksek değer daha iyi ulaşım)', fontsize=10)\n",
    "    plt.ylabel('GA ile Eklenen Yeşil Alan ($m^2$)', fontsize=10)\n",
    "    plt.grid(True)\n",
    "\n",
    "    plt.subplot(1, 2, 2)\n",
    "    sns.scatterplot(x='Ti', y='PSO_Yeni_Yesil_Alan', data=df, color='skyblue', s=100, alpha=0.7, legend=False)\n",
    "    plt.title('PSO: Eklenen Yeşil Alan vs. Ulaşım Skoru ($T_i$)', fontsize=14)\n",
    "    plt.xlabel('Ulaşım Skoru ($T_i$)\\n(Yüksek değer daha iyi ulaşım)', fontsize=10)\n",
    "    plt.ylabel('PSO ile Eklenen Yeşil Alan ($m^2$)', fontsize=10)\n",
    "    plt.grid(True)\n",
    "\n",
    "    plt.tight_layout()\n",
    "    plt.show()"
   ]
  },
  {
   "cell_type": "markdown",
   "id": "e1a0212c",
   "metadata": {},
   "source": [
    "#### 3.7. GA vs. PSO ile Eklenen Yeşil Alan Miktarları (İlçe Bazlı Fark Karşılaştırması)\n",
    "\n",
    "Her bir ilçe için PSO ile eklenen yeşil alan miktarı ile GA ile eklenen yeşil alan miktarı arasındaki farkı ($m^2$) gösterir. Pozitif değerler PSO'nun o ilçede GA'dan daha fazla alan önerdiğini, negatif değerler ise GA'nın daha fazla alan önerdiğini belirtir."
   ]
  },
  {
   "cell_type": "code",
   "execution_count": null,
   "id": "53264df6",
   "metadata": {},
   "outputs": [],
   "source": [
    "if 'df' in locals():\n",
    "    df_comparison = df[['ILCE', 'GA_Yeni_Yesil_Alan', 'PSO_Yeni_Yesil_Alan']].copy()\n",
    "    df_comparison['Fark (PSO - GA) ($m^2$)'] = df_comparison['PSO_Yeni_Yesil_Alan'] - df_comparison['GA_Yeni_Yesil_Alan']\n",
    "    df_comparison_sorted = df_comparison.sort_values('Fark (PSO - GA) ($m^2$)', ascending=False)\n",
    "\n",
    "    plt.figure(figsize=(16, 10))\n",
    "    sns.barplot(x='Fark (PSO - GA) ($m^2$)', y='ILCE', data=df_comparison_sorted, palette='coolwarm')\n",
    "    plt.title('PSO ve GA ile Eklenen Yeşil Alan Miktarları Arasındaki Fark ($m^2$)\\n(Pozitif: PSO > GA, Negatif: GA > PSO)', fontsize=16)\n",
    "    plt.xlabel('Fark: PSO Eklenen Alan - GA Eklenen Alan ($m^2$)', fontsize=12)\n",
    "    plt.ylabel('İlçe', fontsize=12)\n",
    "    plt.axvline(0, color='black', lw=0.8)\n",
    "    plt.tight_layout()\n",
    "    plt.show()"
   ]
  },
  {
   "cell_type": "markdown",
   "id": "8247c9d4",
   "metadata": {},
   "source": [
    "#### 3.8. Temel Metriklerin Dağılımları (Ortalama AQI, Ulaşım Skoru ($T_i$), Hava Kalitesi Skoru ($S_i$))\n",
    "\n",
    "İlçeler genelinde Ortalama AQI, Ulaşım Skoru ($T_i$) ve Hava Kalitesi Skoru ($S_i$) değerlerinin dağılımlarını gösterir. Bu, bu metriklerin genel yapısını anlamak için faydalıdır."
   ]
  },
  {
   "cell_type": "code",
   "execution_count": null,
   "id": "f030dae2",
   "metadata": {},
   "outputs": [],
   "source": [
    "if 'df' in locals():\n",
    "    fig, axes = plt.subplots(1, 3, figsize=(20, 6))\n",
    "    \n",
    "    sns.histplot(df['Ortalama_AQI'], kde=True, ax=axes[0], color='skyblue', bins=10)\n",
    "    axes[0].set_title('Ortalama AQI Dağılımı', fontsize=14)\n",
    "    axes[0].set_xlabel('Ortalama AQI', fontsize=10)\n",
    "    axes[0].set_ylabel('Frekans', fontsize=10)\n",
    "\n",
    "    sns.histplot(df['Ti'], kde=True, ax=axes[1], color='lightcoral', bins=10)\n",
    "    axes[1].set_title('Ulaşım Skoru ($T_i$) Dağılımı', fontsize=14)\n",
    "    axes[1].set_xlabel('Ulaşım Skoru ($T_i$)', fontsize=10)\n",
    "    axes[1].set_ylabel('Frekans', fontsize=10)\n",
    "\n",
    "    sns.histplot(df['Si'], kde=True, ax=axes[2], color='lightgreen', bins=10)\n",
    "    axes[2].set_title('Hava Kalitesi Skoru ($S_i$) Dağılımı', fontsize=14)\n",
    "    axes[2].set_xlabel('Hava Kalitesi Skoru ($S_i$)', fontsize=10)\n",
    "    axes[2].set_ylabel('Frekans', fontsize=10)\n",
    "\n",
    "    plt.tight_layout()\n",
    "    plt.show()"
   ]
  },
  {
   "cell_type": "markdown",
   "id": "0e24e5d8",
   "metadata": {},
   "source": [
    "### 4. Analizli Veri Setinin Kaydedilmesi\n",
    "\n",
    "Hesaplanan kişi başı yeşil alan miktarları gibi ek bilgilerle güncellenmiş veri setini yeni bir CSV dosyasına kaydedelim."
   ]
  },
  {
   "cell_type": "code",
   "execution_count": null,
   "id": "a6f128a6",
   "metadata": {},
   "outputs": [],
   "source": [
    "if 'df' in locals():\n",
    "    # Kişi başı alan sütunlarının varlığını kontrol et, yoksa oluştur (önceki hücrelerde oluşturulmuş olmalı)\n",
    "    if 'Kişi Başı GA ($m^2$)' not in df.columns:\n",
    "        df['Kişi Başı GA ($m^2$)'] = df['GA_Toplam_Yesil_Alan'] / df['Nufus']\n",
    "    if 'Kişi Başı PSO ($m^2$)' not in df.columns:\n",
    "        df['Kişi Başı PSO ($m^2$)'] = df['PSO_Toplam_Yesil_Alan'] / df['Nufus']\n",
    "        \n",
    "    output_csv_path = 'optimum_yesil_alan_sonuclari_analizli.csv'\n",
    "    try:\n",
    "        df.to_csv(output_csv_path, index=False, encoding='utf-8-sig')\n",
    "        print(f\"\\nAnalizli veri seti '{output_csv_path}' dosyasına başarıyla kaydedildi.\")\n",
    "    except Exception as e:\n",
    "        print(f\"Analizli veri seti kaydedilirken bir hata oluştu: {e}\")"
   ]
  },
  {
   "cell_type": "markdown",
   "id": "3db41ccb",
   "metadata": {},
   "source": [
    "### 5. Sonuç\n",
    "\n",
    "Bu notebook, sağlanan CSV dosyasındaki verileri kullanarak çeşitli karşılaştırmalı grafikler üretmiştir. Bu görselleştirmeler, Genetik Algoritma ve Parçacık Sürü Optimizasyonu yöntemlerinin İstanbul'daki yeşil alan dağılımını nasıl etkilediğini, mevcut durumla kıyaslamalarını, kişi başına düşen yeşil alan miktarlarını ve çeşitli çevresel/ulaşım faktörleriyle ilişkilerini ortaya koymaktadır. \n",
    "\n",
    "Elde edilen grafikler ve analizli veri seti, projenizin bulgularını daha etkili bir şekilde sunmanıza yardımcı olacaktır."
   ]
  }
 ],
 "metadata": {
  "kernelspec": {
   "display_name": "Python 3 (ipykernel)",
   "language": "python",
   "name": "python3"
  },
  "language_info": {
   "codemirror_mode": {
    "name": "ipython",
    "version": 3
   },
   "file_extension": ".py",
   "mimetype": "text/x-python",
   "name": "python",
   "nbconvert_exporter": "python",
   "pygments_lexer": "ipython3",
   "version": "3.10.12"
  }
 },
 "nbformat": 4,
 "nbformat_minor": 5
}
